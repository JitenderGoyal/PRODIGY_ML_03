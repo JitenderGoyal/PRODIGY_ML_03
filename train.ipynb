{
 "cells": [
  {
   "cell_type": "markdown",
   "id": "fbbed677",
   "metadata": {},
   "source": [
    "# Image Classification using Support Vector Machine (SVM) "
   ]
  },
  {
   "cell_type": "markdown",
   "id": "619f0b4a",
   "metadata": {},
   "source": [
    "## Description\n",
    "This code performs image classification using Support Vector Machine (SVM) with HOG features.\n",
    "It preprocesses cat and dog images, extracts HOG features, trains the SVM model, and evaluates classification performance.\n",
    "The code saves the trained model and provides metrics like precision, recall, accuracy, and a classification report."
   ]
  },
  {
   "cell_type": "code",
   "execution_count": 1,
   "id": "7bd6dc40",
   "metadata": {},
   "outputs": [],
   "source": [
    "from pre_process import PreProcess # Import your custom PreProcess class\n",
    "import numpy as np\n",
    "import pandas as pd\n",
    "import os\n",
    "import matplotlib.pyplot as plt\n",
    "from skimage.feature import hog\n",
    "from skimage import io, transform\n",
    "from sklearn.model_selection import train_test_split\n",
    "from sklearn.preprocessing import MinMaxScaler\n",
    "from sklearn.svm import SVC\n",
    "from sklearn.model_selection import GridSearchCV\n",
    "from sklearn.metrics import accuracy_score, precision_score, recall_score, f1_score, confusion_matrix, classification_report\n",
    "import joblib"
   ]
  },
  {
   "cell_type": "code",
   "execution_count": 2,
   "id": "7fe4be8d",
   "metadata": {},
   "outputs": [],
   "source": [
    "# Initialize the object for custom class\n",
    "process = PreProcess()"
   ]
  },
  {
   "cell_type": "markdown",
   "id": "26794243",
   "metadata": {},
   "source": [
    "### Get the Labels of our Cat and Dog Images Data"
   ]
  },
  {
   "cell_type": "code",
   "execution_count": 3,
   "id": "1b47d960",
   "metadata": {},
   "outputs": [],
   "source": [
    "cat_path = \"D:\\\\New folder\\\\Data\\\\train\\\\cats\"  # Specify the path to cat images\n",
    "dog_path = \"D:\\\\New folder\\\\Data\\\\train\\\\dogs\"  # Specify the path to dog images\n",
    "cat_df, dog_df = process.file_labelling(cat_path, dog_path)  # Label the image files as cat and dog"
   ]
  },
  {
   "cell_type": "code",
   "execution_count": 4,
   "id": "3914fbe9",
   "metadata": {},
   "outputs": [
    {
     "data": {
      "text/html": [
       "<div>\n",
       "<style scoped>\n",
       "    .dataframe tbody tr th:only-of-type {\n",
       "        vertical-align: middle;\n",
       "    }\n",
       "\n",
       "    .dataframe tbody tr th {\n",
       "        vertical-align: top;\n",
       "    }\n",
       "\n",
       "    .dataframe thead th {\n",
       "        text-align: right;\n",
       "    }\n",
       "</style>\n",
       "<table border=\"1\" class=\"dataframe\">\n",
       "  <thead>\n",
       "    <tr style=\"text-align: right;\">\n",
       "      <th></th>\n",
       "      <th>file</th>\n",
       "      <th>target</th>\n",
       "    </tr>\n",
       "  </thead>\n",
       "  <tbody>\n",
       "    <tr>\n",
       "      <th>0</th>\n",
       "      <td>D:\\New folder\\Data\\train\\cats\\cat.0.jpg</td>\n",
       "      <td>0</td>\n",
       "    </tr>\n",
       "    <tr>\n",
       "      <th>1</th>\n",
       "      <td>D:\\New folder\\Data\\train\\cats\\cat.1.jpg</td>\n",
       "      <td>0</td>\n",
       "    </tr>\n",
       "    <tr>\n",
       "      <th>2</th>\n",
       "      <td>D:\\New folder\\Data\\train\\cats\\cat.100.jpg</td>\n",
       "      <td>0</td>\n",
       "    </tr>\n",
       "    <tr>\n",
       "      <th>3</th>\n",
       "      <td>D:\\New folder\\Data\\train\\cats\\cat.1000.jpg</td>\n",
       "      <td>0</td>\n",
       "    </tr>\n",
       "    <tr>\n",
       "      <th>4</th>\n",
       "      <td>D:\\New folder\\Data\\train\\cats\\cat.10002.jpg</td>\n",
       "      <td>0</td>\n",
       "    </tr>\n",
       "  </tbody>\n",
       "</table>\n",
       "</div>"
      ],
      "text/plain": [
       "                                          file  target\n",
       "0      D:\\New folder\\Data\\train\\cats\\cat.0.jpg       0\n",
       "1      D:\\New folder\\Data\\train\\cats\\cat.1.jpg       0\n",
       "2    D:\\New folder\\Data\\train\\cats\\cat.100.jpg       0\n",
       "3   D:\\New folder\\Data\\train\\cats\\cat.1000.jpg       0\n",
       "4  D:\\New folder\\Data\\train\\cats\\cat.10002.jpg       0"
      ]
     },
     "execution_count": 4,
     "metadata": {},
     "output_type": "execute_result"
    }
   ],
   "source": [
    "cat_df.head() # Display the first few rows of the cat data"
   ]
  },
  {
   "cell_type": "code",
   "execution_count": 5,
   "id": "7ae528bc",
   "metadata": {},
   "outputs": [
    {
     "data": {
      "text/html": [
       "<div>\n",
       "<style scoped>\n",
       "    .dataframe tbody tr th:only-of-type {\n",
       "        vertical-align: middle;\n",
       "    }\n",
       "\n",
       "    .dataframe tbody tr th {\n",
       "        vertical-align: top;\n",
       "    }\n",
       "\n",
       "    .dataframe thead th {\n",
       "        text-align: right;\n",
       "    }\n",
       "</style>\n",
       "<table border=\"1\" class=\"dataframe\">\n",
       "  <thead>\n",
       "    <tr style=\"text-align: right;\">\n",
       "      <th></th>\n",
       "      <th>file</th>\n",
       "      <th>target</th>\n",
       "    </tr>\n",
       "  </thead>\n",
       "  <tbody>\n",
       "    <tr>\n",
       "      <th>0</th>\n",
       "      <td>D:\\New folder\\Data\\train\\dogs\\dog.0.jpg</td>\n",
       "      <td>1</td>\n",
       "    </tr>\n",
       "    <tr>\n",
       "      <th>1</th>\n",
       "      <td>D:\\New folder\\Data\\train\\dogs\\dog.1.jpg</td>\n",
       "      <td>1</td>\n",
       "    </tr>\n",
       "    <tr>\n",
       "      <th>2</th>\n",
       "      <td>D:\\New folder\\Data\\train\\dogs\\dog.10.jpg</td>\n",
       "      <td>1</td>\n",
       "    </tr>\n",
       "    <tr>\n",
       "      <th>3</th>\n",
       "      <td>D:\\New folder\\Data\\train\\dogs\\dog.1000.jpg</td>\n",
       "      <td>1</td>\n",
       "    </tr>\n",
       "    <tr>\n",
       "      <th>4</th>\n",
       "      <td>D:\\New folder\\Data\\train\\dogs\\dog.10000.jpg</td>\n",
       "      <td>1</td>\n",
       "    </tr>\n",
       "  </tbody>\n",
       "</table>\n",
       "</div>"
      ],
      "text/plain": [
       "                                          file  target\n",
       "0      D:\\New folder\\Data\\train\\dogs\\dog.0.jpg       1\n",
       "1      D:\\New folder\\Data\\train\\dogs\\dog.1.jpg       1\n",
       "2     D:\\New folder\\Data\\train\\dogs\\dog.10.jpg       1\n",
       "3   D:\\New folder\\Data\\train\\dogs\\dog.1000.jpg       1\n",
       "4  D:\\New folder\\Data\\train\\dogs\\dog.10000.jpg       1"
      ]
     },
     "execution_count": 5,
     "metadata": {},
     "output_type": "execute_result"
    }
   ],
   "source": [
    "dog_df.head()  # Display the first few rows of the dog data"
   ]
  },
  {
   "cell_type": "markdown",
   "id": "7d14f54b",
   "metadata": {},
   "source": [
    "### Initialize empty lists and dataframes to store HOG features"
   ]
  },
  {
   "cell_type": "code",
   "execution_count": 6,
   "id": "1f12a9ea",
   "metadata": {},
   "outputs": [
    {
     "name": "stdout",
     "output_type": "stream",
     "text": [
      "Total iterations: 5001\n"
     ]
    }
   ],
   "source": [
    "ls_hog = []\n",
    "count = 0\n",
    "df_cat = pd.DataFrame()\n",
    "\n",
    "# Extract HOG features for a subset of cat images (the first 5000)\n",
    "total_iterations = 0\n",
    "\n",
    "for count, image_path in enumerate(cat_df['file'].loc[:5000]):\n",
    "    extracted_feature, img_path = process.extract_hog_feature(image_path)  # Extract HOG features for an image\n",
    "    ls_hog.append([extracted_feature, img_path])  # Store HOG feature and image path\n",
    "\n",
    "total_iterations = count + 1  # Calculate the total count of iterations\n",
    "\n",
    "print(\"Total iterations:\", total_iterations)"
   ]
  },
  {
   "cell_type": "code",
   "execution_count": 7,
   "id": "a8f9dce9",
   "metadata": {},
   "outputs": [],
   "source": [
    "# Concatenate the HOG features to create a dataframe\n",
    "for i in range(len(ls_hog)):\n",
    "    df_cat = pd.concat([df_cat, pd.Series(ls_hog[i][0])], axis=1)"
   ]
  },
  {
   "cell_type": "code",
   "execution_count": 8,
   "id": "da16dd14",
   "metadata": {},
   "outputs": [],
   "source": [
    "# Doing tranpose to convert the row into column and column into row\n",
    "df_upd_cat = df_cat.transpose()"
   ]
  },
  {
   "cell_type": "code",
   "execution_count": 9,
   "id": "ccf737c4",
   "metadata": {},
   "outputs": [],
   "source": [
    "# Now the index will start from 0 to n\n",
    "df_upd_cat = df_upd_cat.reset_index()"
   ]
  },
  {
   "cell_type": "code",
   "execution_count": 10,
   "id": "fb3f2ba4",
   "metadata": {},
   "outputs": [
    {
     "data": {
      "text/html": [
       "<div>\n",
       "<style scoped>\n",
       "    .dataframe tbody tr th:only-of-type {\n",
       "        vertical-align: middle;\n",
       "    }\n",
       "\n",
       "    .dataframe tbody tr th {\n",
       "        vertical-align: top;\n",
       "    }\n",
       "\n",
       "    .dataframe thead th {\n",
       "        text-align: right;\n",
       "    }\n",
       "</style>\n",
       "<table border=\"1\" class=\"dataframe\">\n",
       "  <thead>\n",
       "    <tr style=\"text-align: right;\">\n",
       "      <th></th>\n",
       "      <th>index</th>\n",
       "      <th>0</th>\n",
       "      <th>1</th>\n",
       "      <th>2</th>\n",
       "      <th>3</th>\n",
       "      <th>4</th>\n",
       "      <th>5</th>\n",
       "      <th>6</th>\n",
       "      <th>7</th>\n",
       "      <th>8</th>\n",
       "      <th>...</th>\n",
       "      <th>8090</th>\n",
       "      <th>8091</th>\n",
       "      <th>8092</th>\n",
       "      <th>8093</th>\n",
       "      <th>8094</th>\n",
       "      <th>8095</th>\n",
       "      <th>8096</th>\n",
       "      <th>8097</th>\n",
       "      <th>8098</th>\n",
       "      <th>8099</th>\n",
       "    </tr>\n",
       "  </thead>\n",
       "  <tbody>\n",
       "    <tr>\n",
       "      <th>0</th>\n",
       "      <td>0</td>\n",
       "      <td>0.347284</td>\n",
       "      <td>0.000000</td>\n",
       "      <td>0.000000</td>\n",
       "      <td>0.000000</td>\n",
       "      <td>0.000833</td>\n",
       "      <td>0.024801</td>\n",
       "      <td>0.098172</td>\n",
       "      <td>0.096082</td>\n",
       "      <td>0.347284</td>\n",
       "      <td>...</td>\n",
       "      <td>0.053916</td>\n",
       "      <td>0.033221</td>\n",
       "      <td>0.025633</td>\n",
       "      <td>0.092108</td>\n",
       "      <td>0.137179</td>\n",
       "      <td>0.274561</td>\n",
       "      <td>0.040702</td>\n",
       "      <td>0.000000</td>\n",
       "      <td>0.000000</td>\n",
       "      <td>0.013685</td>\n",
       "    </tr>\n",
       "    <tr>\n",
       "      <th>1</th>\n",
       "      <td>0</td>\n",
       "      <td>0.254146</td>\n",
       "      <td>0.059052</td>\n",
       "      <td>0.032694</td>\n",
       "      <td>0.056351</td>\n",
       "      <td>0.070183</td>\n",
       "      <td>0.041041</td>\n",
       "      <td>0.206986</td>\n",
       "      <td>0.176438</td>\n",
       "      <td>0.254146</td>\n",
       "      <td>...</td>\n",
       "      <td>0.113792</td>\n",
       "      <td>0.245764</td>\n",
       "      <td>0.136152</td>\n",
       "      <td>0.237635</td>\n",
       "      <td>0.153505</td>\n",
       "      <td>0.199295</td>\n",
       "      <td>0.159452</td>\n",
       "      <td>0.107791</td>\n",
       "      <td>0.030850</td>\n",
       "      <td>0.102147</td>\n",
       "    </tr>\n",
       "    <tr>\n",
       "      <th>2</th>\n",
       "      <td>0</td>\n",
       "      <td>0.096934</td>\n",
       "      <td>0.083190</td>\n",
       "      <td>0.024875</td>\n",
       "      <td>0.114956</td>\n",
       "      <td>0.128810</td>\n",
       "      <td>0.081335</td>\n",
       "      <td>0.053667</td>\n",
       "      <td>0.186580</td>\n",
       "      <td>0.094006</td>\n",
       "      <td>...</td>\n",
       "      <td>0.256743</td>\n",
       "      <td>0.162735</td>\n",
       "      <td>0.011663</td>\n",
       "      <td>0.000000</td>\n",
       "      <td>0.000000</td>\n",
       "      <td>0.011753</td>\n",
       "      <td>0.004072</td>\n",
       "      <td>0.001272</td>\n",
       "      <td>0.040142</td>\n",
       "      <td>0.429850</td>\n",
       "    </tr>\n",
       "    <tr>\n",
       "      <th>3</th>\n",
       "      <td>0</td>\n",
       "      <td>0.102091</td>\n",
       "      <td>0.083605</td>\n",
       "      <td>0.124746</td>\n",
       "      <td>0.173507</td>\n",
       "      <td>0.255841</td>\n",
       "      <td>0.219440</td>\n",
       "      <td>0.132731</td>\n",
       "      <td>0.091359</td>\n",
       "      <td>0.000000</td>\n",
       "      <td>...</td>\n",
       "      <td>0.077533</td>\n",
       "      <td>0.232927</td>\n",
       "      <td>0.232927</td>\n",
       "      <td>0.165472</td>\n",
       "      <td>0.022227</td>\n",
       "      <td>0.232927</td>\n",
       "      <td>0.196072</td>\n",
       "      <td>0.186619</td>\n",
       "      <td>0.041276</td>\n",
       "      <td>0.071166</td>\n",
       "    </tr>\n",
       "    <tr>\n",
       "      <th>4</th>\n",
       "      <td>0</td>\n",
       "      <td>0.151428</td>\n",
       "      <td>0.000000</td>\n",
       "      <td>0.041891</td>\n",
       "      <td>0.128357</td>\n",
       "      <td>0.302971</td>\n",
       "      <td>0.302971</td>\n",
       "      <td>0.302971</td>\n",
       "      <td>0.083599</td>\n",
       "      <td>0.028436</td>\n",
       "      <td>...</td>\n",
       "      <td>0.041595</td>\n",
       "      <td>0.257501</td>\n",
       "      <td>0.257501</td>\n",
       "      <td>0.132011</td>\n",
       "      <td>0.094984</td>\n",
       "      <td>0.180869</td>\n",
       "      <td>0.013782</td>\n",
       "      <td>0.001558</td>\n",
       "      <td>0.116869</td>\n",
       "      <td>0.180745</td>\n",
       "    </tr>\n",
       "  </tbody>\n",
       "</table>\n",
       "<p>5 rows × 8101 columns</p>\n",
       "</div>"
      ],
      "text/plain": [
       "   index         0         1         2         3         4         5  \\\n",
       "0      0  0.347284  0.000000  0.000000  0.000000  0.000833  0.024801   \n",
       "1      0  0.254146  0.059052  0.032694  0.056351  0.070183  0.041041   \n",
       "2      0  0.096934  0.083190  0.024875  0.114956  0.128810  0.081335   \n",
       "3      0  0.102091  0.083605  0.124746  0.173507  0.255841  0.219440   \n",
       "4      0  0.151428  0.000000  0.041891  0.128357  0.302971  0.302971   \n",
       "\n",
       "          6         7         8  ...      8090      8091      8092      8093  \\\n",
       "0  0.098172  0.096082  0.347284  ...  0.053916  0.033221  0.025633  0.092108   \n",
       "1  0.206986  0.176438  0.254146  ...  0.113792  0.245764  0.136152  0.237635   \n",
       "2  0.053667  0.186580  0.094006  ...  0.256743  0.162735  0.011663  0.000000   \n",
       "3  0.132731  0.091359  0.000000  ...  0.077533  0.232927  0.232927  0.165472   \n",
       "4  0.302971  0.083599  0.028436  ...  0.041595  0.257501  0.257501  0.132011   \n",
       "\n",
       "       8094      8095      8096      8097      8098      8099  \n",
       "0  0.137179  0.274561  0.040702  0.000000  0.000000  0.013685  \n",
       "1  0.153505  0.199295  0.159452  0.107791  0.030850  0.102147  \n",
       "2  0.000000  0.011753  0.004072  0.001272  0.040142  0.429850  \n",
       "3  0.022227  0.232927  0.196072  0.186619  0.041276  0.071166  \n",
       "4  0.094984  0.180869  0.013782  0.001558  0.116869  0.180745  \n",
       "\n",
       "[5 rows x 8101 columns]"
      ]
     },
     "execution_count": 10,
     "metadata": {},
     "output_type": "execute_result"
    }
   ],
   "source": [
    "# Display the first few rows of the transposed cat HOG features dataframe\n",
    "df_upd_cat.head()"
   ]
  },
  {
   "cell_type": "markdown",
   "id": "bda3dc3c",
   "metadata": {},
   "source": [
    "### Extract HOG features for a subset of dog images (the first 5000)"
   ]
  },
  {
   "cell_type": "code",
   "execution_count": 12,
   "id": "1f5bcea1",
   "metadata": {},
   "outputs": [
    {
     "name": "stdout",
     "output_type": "stream",
     "text": [
      "Total iterations: 5001\n"
     ]
    }
   ],
   "source": [
    "ls_hog_dog = []  # Initialize the ls_hog_dog list\n",
    "\n",
    "total_iterations = 0\n",
    "\n",
    "for count, image_path in enumerate(dog_df['file'].loc[:5000]):\n",
    "    extracted_feature_dog, image_path = process.extract_hog_feature(image_path)  # Extract HOG features for a dog image\n",
    "    ls_hog_dog.append([extracted_feature_dog, image_path])  # Store HOG feature and image path\n",
    "\n",
    "total_iterations = count + 1  # Calculate the total count of iterations\n",
    "\n",
    "print(\"Total iterations:\", total_iterations)"
   ]
  },
  {
   "cell_type": "code",
   "execution_count": 14,
   "id": "3e4f502b",
   "metadata": {},
   "outputs": [],
   "source": [
    "df_dog = pd.DataFrame()\n",
    "# Concatenate the HOG features to create a dataframe\n",
    "for i in range (len(ls_hog_dog)):\n",
    "    df_dog = pd.concat([df_dog, pd.Series(ls_hog_dog[i][0])],axis=1)"
   ]
  },
  {
   "cell_type": "code",
   "execution_count": 15,
   "id": "2b377322",
   "metadata": {},
   "outputs": [],
   "source": [
    "# Doing tranpose to convert the row into column and column into row\n",
    "df_upd_dog = df_dog.transpose()"
   ]
  },
  {
   "cell_type": "code",
   "execution_count": 16,
   "id": "4e9f03aa",
   "metadata": {},
   "outputs": [],
   "source": [
    "# Reset the index of the dataframe and Now the index will start from 0 to n \n",
    "df_upd_dog = df_upd_dog.reset_index()"
   ]
  },
  {
   "cell_type": "code",
   "execution_count": 17,
   "id": "cfa29223",
   "metadata": {},
   "outputs": [],
   "source": [
    "# Drop the 'index' column from both dataframes\n",
    "df_upd_cat.drop('index', axis=1, inplace=True)\n",
    "df_upd_dog.drop('index', axis=1, inplace=True)"
   ]
  },
  {
   "cell_type": "code",
   "execution_count": 18,
   "id": "3f6d7e99",
   "metadata": {},
   "outputs": [],
   "source": [
    "# Add a 'target' column to indicate cat (0) or dog (1)\n",
    "df_upd_cat['target'] = 0\n",
    "df_upd_dog['target'] = 1"
   ]
  },
  {
   "cell_type": "markdown",
   "id": "824ba155",
   "metadata": {},
   "source": [
    "### Concatenate cat and dog dataframes to create the final dataset"
   ]
  },
  {
   "cell_type": "code",
   "execution_count": 19,
   "id": "111e10c3",
   "metadata": {},
   "outputs": [],
   "source": [
    "final_data = pd.concat([df_upd_cat, df_upd_dog], axis=0, ignore_index=True)"
   ]
  },
  {
   "cell_type": "code",
   "execution_count": 20,
   "id": "e4b2a296",
   "metadata": {},
   "outputs": [
    {
     "data": {
      "text/plain": [
       "(10002, 8101)"
      ]
     },
     "execution_count": 20,
     "metadata": {},
     "output_type": "execute_result"
    }
   ],
   "source": [
    "final_data.shape  # Display the shape of the final dataset"
   ]
  },
  {
   "cell_type": "code",
   "execution_count": 21,
   "id": "5d473488",
   "metadata": {},
   "outputs": [],
   "source": [
    "# Saving the final_data in csv format\n",
    "final_data.to_csv('output.csv', index=False)"
   ]
  },
  {
   "cell_type": "markdown",
   "id": "b3af02f2",
   "metadata": {},
   "source": [
    "### Split the dataset into training and testing sets"
   ]
  },
  {
   "cell_type": "code",
   "execution_count": 22,
   "id": "d81157fa",
   "metadata": {},
   "outputs": [],
   "source": [
    "X_train, X_test, y_train, y_test = process.split_dataset(final_data)"
   ]
  },
  {
   "cell_type": "code",
   "execution_count": 23,
   "id": "8c7b685d",
   "metadata": {},
   "outputs": [],
   "source": [
    "# Using MinMaxScaler \n",
    "scaler = MinMaxScaler()"
   ]
  },
  {
   "cell_type": "code",
   "execution_count": 24,
   "id": "ad39e919",
   "metadata": {},
   "outputs": [],
   "source": [
    "# Apply MinMaxScalr on train and test data\n",
    "X_train = scaler.fit_transform(X_train)\n",
    "X_test = scaler.transform(X_test)"
   ]
  },
  {
   "cell_type": "markdown",
   "id": "7e0a2d62",
   "metadata": {},
   "source": [
    "## Initialize a Support Vector Machine (SVM) classifier"
   ]
  },
  {
   "cell_type": "code",
   "execution_count": 25,
   "id": "1d79ec62",
   "metadata": {},
   "outputs": [
    {
     "data": {
      "text/html": [
       "<style>#sk-container-id-1 {color: black;background-color: white;}#sk-container-id-1 pre{padding: 0;}#sk-container-id-1 div.sk-toggleable {background-color: white;}#sk-container-id-1 label.sk-toggleable__label {cursor: pointer;display: block;width: 100%;margin-bottom: 0;padding: 0.3em;box-sizing: border-box;text-align: center;}#sk-container-id-1 label.sk-toggleable__label-arrow:before {content: \"▸\";float: left;margin-right: 0.25em;color: #696969;}#sk-container-id-1 label.sk-toggleable__label-arrow:hover:before {color: black;}#sk-container-id-1 div.sk-estimator:hover label.sk-toggleable__label-arrow:before {color: black;}#sk-container-id-1 div.sk-toggleable__content {max-height: 0;max-width: 0;overflow: hidden;text-align: left;background-color: #f0f8ff;}#sk-container-id-1 div.sk-toggleable__content pre {margin: 0.2em;color: black;border-radius: 0.25em;background-color: #f0f8ff;}#sk-container-id-1 input.sk-toggleable__control:checked~div.sk-toggleable__content {max-height: 200px;max-width: 100%;overflow: auto;}#sk-container-id-1 input.sk-toggleable__control:checked~label.sk-toggleable__label-arrow:before {content: \"▾\";}#sk-container-id-1 div.sk-estimator input.sk-toggleable__control:checked~label.sk-toggleable__label {background-color: #d4ebff;}#sk-container-id-1 div.sk-label input.sk-toggleable__control:checked~label.sk-toggleable__label {background-color: #d4ebff;}#sk-container-id-1 input.sk-hidden--visually {border: 0;clip: rect(1px 1px 1px 1px);clip: rect(1px, 1px, 1px, 1px);height: 1px;margin: -1px;overflow: hidden;padding: 0;position: absolute;width: 1px;}#sk-container-id-1 div.sk-estimator {font-family: monospace;background-color: #f0f8ff;border: 1px dotted black;border-radius: 0.25em;box-sizing: border-box;margin-bottom: 0.5em;}#sk-container-id-1 div.sk-estimator:hover {background-color: #d4ebff;}#sk-container-id-1 div.sk-parallel-item::after {content: \"\";width: 100%;border-bottom: 1px solid gray;flex-grow: 1;}#sk-container-id-1 div.sk-label:hover label.sk-toggleable__label {background-color: #d4ebff;}#sk-container-id-1 div.sk-serial::before {content: \"\";position: absolute;border-left: 1px solid gray;box-sizing: border-box;top: 0;bottom: 0;left: 50%;z-index: 0;}#sk-container-id-1 div.sk-serial {display: flex;flex-direction: column;align-items: center;background-color: white;padding-right: 0.2em;padding-left: 0.2em;position: relative;}#sk-container-id-1 div.sk-item {position: relative;z-index: 1;}#sk-container-id-1 div.sk-parallel {display: flex;align-items: stretch;justify-content: center;background-color: white;position: relative;}#sk-container-id-1 div.sk-item::before, #sk-container-id-1 div.sk-parallel-item::before {content: \"\";position: absolute;border-left: 1px solid gray;box-sizing: border-box;top: 0;bottom: 0;left: 50%;z-index: -1;}#sk-container-id-1 div.sk-parallel-item {display: flex;flex-direction: column;z-index: 1;position: relative;background-color: white;}#sk-container-id-1 div.sk-parallel-item:first-child::after {align-self: flex-end;width: 50%;}#sk-container-id-1 div.sk-parallel-item:last-child::after {align-self: flex-start;width: 50%;}#sk-container-id-1 div.sk-parallel-item:only-child::after {width: 0;}#sk-container-id-1 div.sk-dashed-wrapped {border: 1px dashed gray;margin: 0 0.4em 0.5em 0.4em;box-sizing: border-box;padding-bottom: 0.4em;background-color: white;}#sk-container-id-1 div.sk-label label {font-family: monospace;font-weight: bold;display: inline-block;line-height: 1.2em;}#sk-container-id-1 div.sk-label-container {text-align: center;}#sk-container-id-1 div.sk-container {/* jupyter's `normalize.less` sets `[hidden] { display: none; }` but bootstrap.min.css set `[hidden] { display: none !important; }` so we also need the `!important` here to be able to override the default hidden behavior on the sphinx rendered scikit-learn.org. See: https://github.com/scikit-learn/scikit-learn/issues/21755 */display: inline-block !important;position: relative;}#sk-container-id-1 div.sk-text-repr-fallback {display: none;}</style><div id=\"sk-container-id-1\" class=\"sk-top-container\"><div class=\"sk-text-repr-fallback\"><pre>SVC()</pre><b>In a Jupyter environment, please rerun this cell to show the HTML representation or trust the notebook. <br />On GitHub, the HTML representation is unable to render, please try loading this page with nbviewer.org.</b></div><div class=\"sk-container\" hidden><div class=\"sk-item\"><div class=\"sk-estimator sk-toggleable\"><input class=\"sk-toggleable__control sk-hidden--visually\" id=\"sk-estimator-id-1\" type=\"checkbox\" checked><label for=\"sk-estimator-id-1\" class=\"sk-toggleable__label sk-toggleable__label-arrow\">SVC</label><div class=\"sk-toggleable__content\"><pre>SVC()</pre></div></div></div></div></div>"
      ],
      "text/plain": [
       "SVC()"
      ]
     },
     "execution_count": 25,
     "metadata": {},
     "output_type": "execute_result"
    }
   ],
   "source": [
    "best_svm = SVC()\n",
    "best_svm.fit(X_train, y_train)"
   ]
  },
  {
   "cell_type": "markdown",
   "id": "d725a5f0",
   "metadata": {},
   "source": [
    "### Save the trained SVM model to a file"
   ]
  },
  {
   "cell_type": "code",
   "execution_count": 26,
   "id": "672bd547",
   "metadata": {},
   "outputs": [
    {
     "data": {
      "text/plain": [
       "['best_svm_model.joblib']"
      ]
     },
     "execution_count": 26,
     "metadata": {},
     "output_type": "execute_result"
    }
   ],
   "source": [
    "model_filename = 'best_svm_model.joblib'\n",
    "joblib.dump(best_svm, model_filename)"
   ]
  },
  {
   "cell_type": "code",
   "execution_count": 27,
   "id": "7cd6f555",
   "metadata": {},
   "outputs": [],
   "source": [
    "# Predict the labels for the test data\n",
    "y_pred = best_svm.predict(X_test)"
   ]
  },
  {
   "cell_type": "markdown",
   "id": "4a8487d5",
   "metadata": {},
   "source": [
    "# Visualize the Model Performance"
   ]
  },
  {
   "cell_type": "code",
   "execution_count": 28,
   "id": "fbf8a9af",
   "metadata": {},
   "outputs": [
    {
     "name": "stdout",
     "output_type": "stream",
     "text": [
      "Precision: 0.7431906614785992\n"
     ]
    }
   ],
   "source": [
    "# Calculate precision\n",
    "precision = precision_score(y_test, y_pred)\n",
    "print(\"Precision:\", precision)"
   ]
  },
  {
   "cell_type": "code",
   "execution_count": 29,
   "id": "ac83fbb4",
   "metadata": {},
   "outputs": [
    {
     "name": "stdout",
     "output_type": "stream",
     "text": [
      "Recall: 0.7453658536585366\n"
     ]
    }
   ],
   "source": [
    "# Calculate recall\n",
    "recall = recall_score(y_test, y_pred)\n",
    "print(\"Recall:\", recall)"
   ]
  },
  {
   "cell_type": "code",
   "execution_count": 30,
   "id": "92b5e167",
   "metadata": {},
   "outputs": [
    {
     "name": "stdout",
     "output_type": "stream",
     "text": [
      "Accuracy: 0.7376311844077961\n"
     ]
    }
   ],
   "source": [
    "# Calculate accuracy\n",
    "accuracy = accuracy_score(y_test, y_pred)\n",
    "print(\"Accuracy:\", accuracy)"
   ]
  },
  {
   "cell_type": "code",
   "execution_count": 31,
   "id": "74e4a0e2",
   "metadata": {},
   "outputs": [
    {
     "name": "stdout",
     "output_type": "stream",
     "text": [
      "F1-score: 0.7442766682903069\n"
     ]
    }
   ],
   "source": [
    "# Calculate F1-score\n",
    "f1 = f1_score(y_test, y_pred)\n",
    "print(\"F1-score:\", f1)\n"
   ]
  },
  {
   "cell_type": "code",
   "execution_count": 32,
   "id": "c605f8c0",
   "metadata": {},
   "outputs": [
    {
     "name": "stdout",
     "output_type": "stream",
     "text": [
      "Confusion Matrix:\n",
      "[[712 264]\n",
      " [261 764]]\n"
     ]
    }
   ],
   "source": [
    "# Calculate confusion matrix\n",
    "conf_matrix = confusion_matrix(y_test, y_pred)\n",
    "print(\"Confusion Matrix:\")\n",
    "print(conf_matrix)"
   ]
  },
  {
   "cell_type": "code",
   "execution_count": 33,
   "id": "d7897036",
   "metadata": {},
   "outputs": [
    {
     "name": "stdout",
     "output_type": "stream",
     "text": [
      "Classification Report:\n",
      "              precision    recall  f1-score   support\n",
      "\n",
      "           0       0.73      0.73      0.73       976\n",
      "           1       0.74      0.75      0.74      1025\n",
      "\n",
      "    accuracy                           0.74      2001\n",
      "   macro avg       0.74      0.74      0.74      2001\n",
      "weighted avg       0.74      0.74      0.74      2001\n",
      "\n"
     ]
    }
   ],
   "source": [
    "# Generate a classification report and print it\n",
    "print(\"Classification Report:\")\n",
    "print(classification_report(y_test, y_pred))"
   ]
  },
  {
   "cell_type": "markdown",
   "id": "c178849c",
   "metadata": {},
   "source": [
    "# Thankyou"
   ]
  }
 ],
 "metadata": {
  "kernelspec": {
   "display_name": "Python 3 (ipykernel)",
   "language": "python",
   "name": "python3"
  },
  "language_info": {
   "codemirror_mode": {
    "name": "ipython",
    "version": 3
   },
   "file_extension": ".py",
   "mimetype": "text/x-python",
   "name": "python",
   "nbconvert_exporter": "python",
   "pygments_lexer": "ipython3",
   "version": "3.11.0"
  }
 },
 "nbformat": 4,
 "nbformat_minor": 5
}
